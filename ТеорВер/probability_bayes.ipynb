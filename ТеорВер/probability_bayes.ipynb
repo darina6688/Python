{
 "cells": [
  {
   "cell_type": "code",
   "execution_count": 1,
   "metadata": {},
   "outputs": [],
   "source": [
    "#альтернативный вариант\n",
    "\n",
    "from math import factorial\n",
    "\n",
    "def num_of_successes(n, k):\n",
    "    return factorial(n)/(factorial(k) * factorial(n - k))"
   ]
  },
  {
   "cell_type": "code",
   "execution_count": null,
   "metadata": {},
   "outputs": [],
   "source": [
    "from scipy import special #модуль питона, предназначенный для научных и инженерных расчетов\n",
    "\n",
    "special.comb(n, k) #биномиальный коэффициент\n"
   ]
  },
  {
   "cell_type": "code",
   "execution_count": null,
   "metadata": {},
   "outputs": [],
   "source": []
  },
  {
   "cell_type": "code",
   "execution_count": null,
   "metadata": {},
   "outputs": [],
   "source": [
    "Задание 1"
   ]
  },
  {
   "cell_type": "code",
   "execution_count": null,
   "metadata": {},
   "outputs": [],
   "source": [
    "# Из 500 компьютеров  180 принадлежат к 1 партии, 170 – ко второй партии, остальные к третьей. \n",
    "# В первой партии 3% брака, во второй — 2%, в третьей – 6%. Случайно выбирается один компьютер. \n",
    "# Определить вероятность того, что выбранный компьютер – бракованный. "
   ]
  },
  {
   "cell_type": "code",
   "execution_count": null,
   "metadata": {},
   "outputs": [],
   "source": [
    "Здесь нам понадобится лишь частичка формулы Байеса. Найдем вероятность брака компьютера\n",
    "- ...взять **случайный** компьютер из **конкретной** партии (1, 2 или 3)\n",
    "- ...получить **бракованный** компьютер, **если** он взят из **конкретной** партии (1, 2 или 3)"
   ]
  },
  {
   "cell_type": "code",
   "execution_count": 5,
   "metadata": {},
   "outputs": [],
   "source": [
    "a = 180"
   ]
  },
  {
   "cell_type": "code",
   "execution_count": 6,
   "metadata": {},
   "outputs": [],
   "source": [
    "b = 170"
   ]
  },
  {
   "cell_type": "code",
   "execution_count": 7,
   "metadata": {},
   "outputs": [],
   "source": [
    "c = 500 -(180+170)"
   ]
  },
  {
   "cell_type": "code",
   "execution_count": 8,
   "metadata": {},
   "outputs": [
    {
     "data": {
      "text/plain": [
       "0.03559999999999999"
      ]
     },
     "execution_count": 8,
     "metadata": {},
     "output_type": "execute_result"
    }
   ],
   "source": [
    "p = ((a*0.03)+(b*0.02)+(c*0.06))/500          # общее количество брака/общее кол-во компов\n",
    "p"
   ]
  },
  {
   "cell_type": "code",
   "execution_count": null,
   "metadata": {},
   "outputs": [],
   "source": []
  },
  {
   "cell_type": "code",
   "execution_count": null,
   "metadata": {},
   "outputs": [],
   "source": [
    "Задание 2"
   ]
  },
  {
   "cell_type": "code",
   "execution_count": null,
   "metadata": {},
   "outputs": [],
   "source": [
    "# Есть компания с программистами. В ней на языке Java пишут в 3 раза больше человек, чем на языке C++. \n",
    "# Программистов на языке C++ в 4 раза больше, чем на Python. \n",
    "# Вероятность сделать работу за один день для Java-программиста — 0,85, для программиста на языке C++ 0,9, а для Python программиста 0,8. \n",
    "# Найти вероятность того, что программист, выбранный наугад, сделает работу за один день."
   ]
  },
  {
   "cell_type": "code",
   "execution_count": 12,
   "metadata": {},
   "outputs": [],
   "source": [
    "pJ = 0.85"
   ]
  },
  {
   "cell_type": "code",
   "execution_count": 13,
   "metadata": {},
   "outputs": [],
   "source": [
    "pC = 0.9"
   ]
  },
  {
   "cell_type": "code",
   "execution_count": 14,
   "metadata": {},
   "outputs": [],
   "source": [
    "pP = 0.8"
   ]
  },
  {
   "cell_type": "code",
   "execution_count": 15,
   "metadata": {},
   "outputs": [
    {
     "data": {
      "text/plain": [
       "0.8588235294117647"
      ]
     },
     "execution_count": 15,
     "metadata": {},
     "output_type": "execute_result"
    }
   ],
   "source": [
    "p_tot = (12*pJ+4*pC+1*pP)/(12+4+1)\n",
    "p_tot"
   ]
  },
  {
   "cell_type": "code",
   "execution_count": null,
   "metadata": {},
   "outputs": [],
   "source": []
  },
  {
   "cell_type": "code",
   "execution_count": null,
   "metadata": {},
   "outputs": [],
   "source": [
    "Задание 3"
   ]
  },
  {
   "cell_type": "code",
   "execution_count": null,
   "metadata": {},
   "outputs": [],
   "source": [
    "# Из 40 снайперов 18 попадает в цель с вероятностью 0,9, 8 — с вероятностью 0,4 и 14 – с вероятностью 0,7. \n",
    "# Случайно выбранный снайпер произвел выстрел, поразив цель. \n",
    "# Мы хотим вычислить, снайпер из какой группы наиболее вероятно совершил этот выстрел. "
   ]
  },
  {
   "cell_type": "code",
   "execution_count": null,
   "metadata": {},
   "outputs": [],
   "source": [
    "  P(Y|X) = {P(Y) P(X|Y) / P(X)}\n",
    "P(X) вычислять мы уже научились на материале прошлых задачек. \n",
    "Теперь вам нужно вычислить P(Y|X) для каждой из трёх групп снайперов \n",
    "и выбрать ту, которая больше всего."
   ]
  },
  {
   "cell_type": "code",
   "execution_count": 16,
   "metadata": {},
   "outputs": [],
   "source": [
    "a = 18"
   ]
  },
  {
   "cell_type": "code",
   "execution_count": 17,
   "metadata": {},
   "outputs": [],
   "source": [
    "p1 = 0.9"
   ]
  },
  {
   "cell_type": "code",
   "execution_count": 18,
   "metadata": {},
   "outputs": [],
   "source": [
    "b = 8"
   ]
  },
  {
   "cell_type": "code",
   "execution_count": 19,
   "metadata": {},
   "outputs": [],
   "source": [
    "p2 = 0.4"
   ]
  },
  {
   "cell_type": "code",
   "execution_count": 20,
   "metadata": {},
   "outputs": [],
   "source": [
    "c = 14"
   ]
  },
  {
   "cell_type": "code",
   "execution_count": 21,
   "metadata": {},
   "outputs": [],
   "source": [
    "p3 = 0.7"
   ]
  },
  {
   "cell_type": "code",
   "execution_count": 23,
   "metadata": {},
   "outputs": [
    {
     "data": {
      "text/plain": [
       "0.7299999999999999"
      ]
     },
     "execution_count": 23,
     "metadata": {},
     "output_type": "execute_result"
    }
   ],
   "source": [
    "px = ((a*0.9)+(b*0.4)+(c*0.7))/40          # общее количество попаданий /общее кол-во снайпер\n",
    "px        # общая вероятность попадания"
   ]
  },
  {
   "cell_type": "code",
   "execution_count": 30,
   "metadata": {},
   "outputs": [
    {
     "data": {
      "text/plain": [
       "0.5547945205479453"
      ]
     },
     "execution_count": 30,
     "metadata": {},
     "output_type": "execute_result"
    }
   ],
   "source": [
    "((a/40)*p1)/px            # probability that he is from the 1st group"
   ]
  },
  {
   "cell_type": "code",
   "execution_count": 27,
   "metadata": {},
   "outputs": [
    {
     "data": {
      "text/plain": [
       "0.10958904109589045"
      ]
     },
     "execution_count": 27,
     "metadata": {},
     "output_type": "execute_result"
    }
   ],
   "source": [
    "((b/40)*p2)/px            # probability that he is from the 2nd group"
   ]
  },
  {
   "cell_type": "code",
   "execution_count": 28,
   "metadata": {},
   "outputs": [
    {
     "data": {
      "text/plain": [
       "0.3356164383561644"
      ]
     },
     "execution_count": 28,
     "metadata": {},
     "output_type": "execute_result"
    }
   ],
   "source": [
    "((c/40)*p3)/px            # probability that he is from the 3rd group"
   ]
  },
  {
   "cell_type": "code",
   "execution_count": null,
   "metadata": {},
   "outputs": [],
   "source": []
  },
  {
   "cell_type": "code",
   "execution_count": null,
   "metadata": {},
   "outputs": [],
   "source": [
    "Задание 4"
   ]
  },
  {
   "cell_type": "code",
   "execution_count": null,
   "metadata": {},
   "outputs": [],
   "source": [
    "# Есть 4 кубика. На трех из них окрашена белым половина граней, а на четвертом кубике всего одна грань из шести белая. \n",
    "# Наудачу выбранный кубик подбрасывается семь раз. \n",
    "# Найти вероятность того, что был выбран четвертый кубик, если при семи подбрасываниях белая грань выпала ровно один раз."
   ]
  },
  {
   "cell_type": "code",
   "execution_count": null,
   "metadata": {},
   "outputs": [],
   "source": [
    "Считаем по формуле Бернулли: \n",
    "    Вероятность выкинуть 1 белую грань из 7 считаем по ней для каждого из двух типов кубиков"
   ]
  },
  {
   "cell_type": "code",
   "execution_count": 2,
   "metadata": {},
   "outputs": [
    {
     "data": {
      "text/plain": [
       "7.0"
      ]
     },
     "execution_count": 2,
     "metadata": {},
     "output_type": "execute_result"
    }
   ],
   "source": [
    "C = num_of_successes(7, 1)\n",
    "C"
   ]
  },
  {
   "cell_type": "code",
   "execution_count": 8,
   "metadata": {},
   "outputs": [
    {
     "data": {
      "text/plain": [
       "0.39071430612711483"
      ]
     },
     "execution_count": 8,
     "metadata": {},
     "output_type": "execute_result"
    }
   ],
   "source": [
    "p_4 = num_of_successes(7, 1)*((1/6)**1)*((5/6)**6)     # 4th cube, where p(white) = 1/6\n",
    "p_4"
   ]
  },
  {
   "cell_type": "code",
   "execution_count": 12,
   "metadata": {},
   "outputs": [
    {
     "data": {
      "text/plain": [
       "0.0546875"
      ]
     },
     "execution_count": 12,
     "metadata": {},
     "output_type": "execute_result"
    }
   ],
   "source": [
    "p_123 = num_of_successes(7, 1)*(0.5**1)*(0.5**6)     # 1-3 cube, where p(white) = 3/6 = 0.5\n",
    "p_123"
   ]
  },
  {
   "cell_type": "code",
   "execution_count": null,
   "metadata": {},
   "outputs": [],
   "source": [
    "дальше пользуемся формулой Байеса, как в прошлой задаче. \n",
    "Не забудьте подсчитать вероятность взять конкретный кубик!"
   ]
  },
  {
   "cell_type": "code",
   "execution_count": 14,
   "metadata": {},
   "outputs": [
    {
     "data": {
      "text/plain": [
       "0.1386942015317787"
      ]
     },
     "execution_count": 14,
     "metadata": {},
     "output_type": "execute_result"
    }
   ],
   "source": [
    "px = 0.25*p_4 + 0.75*p_123   \n",
    "px        # общая вероятность выпадения белой грани (вер-ть =1/4, если кубик 4-й, и 3/4, если кубик 1, 2,или 3)"
   ]
  },
  {
   "cell_type": "code",
   "execution_count": 16,
   "metadata": {},
   "outputs": [
    {
     "data": {
      "text/plain": [
       "0.7042729649328406"
      ]
     },
     "execution_count": 16,
     "metadata": {},
     "output_type": "execute_result"
    }
   ],
   "source": [
    "((1/4)*p_4)/px            # probability that it is 4th cube"
   ]
  },
  {
   "cell_type": "code",
   "execution_count": null,
   "metadata": {},
   "outputs": [],
   "source": []
  },
  {
   "cell_type": "code",
   "execution_count": null,
   "metadata": {},
   "outputs": [],
   "source": [
    "Задание 5"
   ]
  },
  {
   "cell_type": "code",
   "execution_count": null,
   "metadata": {},
   "outputs": [],
   "source": [
    "На гитхабе лежит 12 скриптов, написанных аналитиком №1, 20 скриптов — написанных аналитиком №2 и 18 скриптов — написанных аналитиком №3. \n",
    "Вероятность того, что скрипт, написанный аналитиком №1, работает  без ошибок, равна 0,9; \n",
    "для скриптов, написанных аналитиками  №2 и №3, эти вероятности соответственно равны 0,6 и 0,9.\n",
    "Нужно найти вероятность того, что случайно взятый скрипт будет работать без ошибок."
   ]
  },
  {
   "cell_type": "code",
   "execution_count": 18,
   "metadata": {},
   "outputs": [],
   "source": [
    "a1 = 12"
   ]
  },
  {
   "cell_type": "code",
   "execution_count": 19,
   "metadata": {},
   "outputs": [],
   "source": [
    "a2 = 20"
   ]
  },
  {
   "cell_type": "code",
   "execution_count": 20,
   "metadata": {},
   "outputs": [],
   "source": [
    "a3 = 18"
   ]
  },
  {
   "cell_type": "code",
   "execution_count": 21,
   "metadata": {},
   "outputs": [],
   "source": [
    "p1 = 0.9"
   ]
  },
  {
   "cell_type": "code",
   "execution_count": 22,
   "metadata": {},
   "outputs": [],
   "source": [
    "p2 = 0.6"
   ]
  },
  {
   "cell_type": "code",
   "execution_count": 23,
   "metadata": {},
   "outputs": [],
   "source": [
    "p3 = 0.9"
   ]
  },
  {
   "cell_type": "code",
   "execution_count": 24,
   "metadata": {},
   "outputs": [
    {
     "data": {
      "text/plain": [
       "0.78"
      ]
     },
     "execution_count": 24,
     "metadata": {},
     "output_type": "execute_result"
    }
   ],
   "source": [
    "px = ((a1*p1)+(a2*p2)+(a3*p3))/(a1+a2+a3)         # общее количество правильных /общее кол-во аналитиков\n",
    "px        # общая вероятность правильных, случайно взятый правильный"
   ]
  },
  {
   "cell_type": "code",
   "execution_count": null,
   "metadata": {},
   "outputs": [],
   "source": []
  },
  {
   "cell_type": "code",
   "execution_count": null,
   "metadata": {},
   "outputs": [],
   "source": [
    "Задание 6"
   ]
  },
  {
   "cell_type": "code",
   "execution_count": null,
   "metadata": {},
   "outputs": [],
   "source": [
    "# Известно, что около 60% всех людей в городе болеют заболеванием А. \n",
    "# Для определения того, заболел человек или нет, проводится тест, точность которого составляет 99%. \n",
    "# Вы получили положительный тест, какова вероятность того, что вы реально больны?"
   ]
  },
  {
   "cell_type": "code",
   "execution_count": null,
   "metadata": {},
   "outputs": [],
   "source": [
    "Смотрим, что нам надо посчитать:\n",
    "\n",
    "- $P(Y|X)$ - вероятность, что мы реально больны, если тест положительный (**то, что мы ищем в задаче**)\n",
    "- $P(X|Y)$ - вероятность, что тест будет положительный, если мы заболеем (**точность теста, указана в условии**)\n",
    "- $P(Y)$ - вероятность заболеть (**также указана в условии**)\n",
    "- $P(X)$ - вероятность того, что тест положительный (**считаем по аналогии с прошлыми задачами**)\n",
    "\n",
    "“точность теста” -  вероятность, что тест не ошибётся \n",
    "- т.е. либо верно диагностирует заболевание, либо верно определит, что человек здоров."
   ]
  },
  {
   "cell_type": "code",
   "execution_count": 28,
   "metadata": {},
   "outputs": [],
   "source": [
    "p_ill = 0.6"
   ]
  },
  {
   "cell_type": "code",
   "execution_count": 29,
   "metadata": {},
   "outputs": [],
   "source": [
    "test_accuracy = 0.99"
   ]
  },
  {
   "cell_type": "code",
   "execution_count": null,
   "metadata": {},
   "outputs": [],
   "source": [
    "P(Y|X) = (P(Y)*P(X|Y))/P(X)"
   ]
  },
  {
   "cell_type": "code",
   "execution_count": 35,
   "metadata": {},
   "outputs": [
    {
     "data": {
      "text/plain": [
       "0.598"
      ]
     },
     "execution_count": 35,
     "metadata": {},
     "output_type": "execute_result"
    }
   ],
   "source": [
    "px = (0.6*0.99)+(0.4*0.01)        # вероятность того, что тест положительный\n",
    "px"
   ]
  },
  {
   "cell_type": "code",
   "execution_count": 36,
   "metadata": {},
   "outputs": [
    {
     "data": {
      "text/plain": [
       "0.9933110367892977"
      ]
     },
     "execution_count": 36,
     "metadata": {},
     "output_type": "execute_result"
    }
   ],
   "source": [
    "P = (p_ill*test_accuracy)/px\n",
    "P"
   ]
  },
  {
   "cell_type": "code",
   "execution_count": null,
   "metadata": {},
   "outputs": [],
   "source": []
  },
  {
   "cell_type": "code",
   "execution_count": null,
   "metadata": {},
   "outputs": [],
   "source": [
    "Задание 7"
   ]
  },
  {
   "cell_type": "code",
   "execution_count": null,
   "metadata": {},
   "outputs": [],
   "source": [
    "# Три фабрики производят лампочки. Фабрика А производит 20% всех лампочек, 50% лампочек производится на фабрике В и оставшиеся 30% на фабрике С. \n",
    "# 2% лампочек, произведенных на фабрике А, 1% лампочек, произведенных на фабрике В, и 3% лампочек, произведенных на фабрике С, являются бракованными.\n",
    "# На рынке наугад выбирается лампочка и оказывается бракованной. \n",
    "# Какова вероятность того, что эта лампочка была произведена на заводе B?"
   ]
  },
  {
   "cell_type": "code",
   "execution_count": null,
   "metadata": {},
   "outputs": [],
   "source": [
    "- $P(Y|X)$ - вероятность, что **именно эту** бракованную лампочку сделали на заводе B (**то, что мы ищем в задаче**)\n",
    "- $P(X|Y)$ - вероятность, что завод B в принципе сделает бракованную лампочку (**указана в условии**)\n",
    "- $P(Y)$ - вероятность того, что лампочка (любая) сделана на заводе B (**также указана в условии**)\n",
    "- $P(X)$ - вероятность найти бракованную лампочку из всех возможных вариантов\n",
    "(**считаем по аналогии с прошлыми задачами, учитываем все три завода с их вероятностями брака и количеством продукции**)"
   ]
  },
  {
   "cell_type": "code",
   "execution_count": 37,
   "metadata": {},
   "outputs": [],
   "source": [
    "a = 0.2"
   ]
  },
  {
   "cell_type": "code",
   "execution_count": 38,
   "metadata": {},
   "outputs": [],
   "source": [
    "b = 0.5"
   ]
  },
  {
   "cell_type": "code",
   "execution_count": 39,
   "metadata": {},
   "outputs": [],
   "source": [
    "c = 0.3"
   ]
  },
  {
   "cell_type": "code",
   "execution_count": 40,
   "metadata": {},
   "outputs": [],
   "source": [
    "p1 = 0.02"
   ]
  },
  {
   "cell_type": "code",
   "execution_count": 41,
   "metadata": {},
   "outputs": [],
   "source": [
    "p2 = 0.01"
   ]
  },
  {
   "cell_type": "code",
   "execution_count": 42,
   "metadata": {},
   "outputs": [],
   "source": [
    "p3 = 0.03"
   ]
  },
  {
   "cell_type": "code",
   "execution_count": 43,
   "metadata": {},
   "outputs": [
    {
     "data": {
      "text/plain": [
       "0.018000000000000002"
      ]
     },
     "execution_count": 43,
     "metadata": {},
     "output_type": "execute_result"
    }
   ],
   "source": [
    "px = ((a*p1)+(b*p2)+(c*p3))/(a+b+c)         # вероятность брака общая\n",
    "px "
   ]
  },
  {
   "cell_type": "code",
   "execution_count": 44,
   "metadata": {},
   "outputs": [
    {
     "data": {
      "text/plain": [
       "0.27777777777777773"
      ]
     },
     "execution_count": 44,
     "metadata": {},
     "output_type": "execute_result"
    }
   ],
   "source": [
    "(p2*b)/px        # вероятность, что лампочку сделали на заводе B"
   ]
  },
  {
   "cell_type": "code",
   "execution_count": null,
   "metadata": {},
   "outputs": [],
   "source": []
  },
  {
   "cell_type": "code",
   "execution_count": null,
   "metadata": {},
   "outputs": [],
   "source": [
    "Задание 8"
   ]
  },
  {
   "cell_type": "code",
   "execution_count": null,
   "metadata": {},
   "outputs": [],
   "source": [
    "# Система РЛС (радиолокационная система) может обнаружить присутствие самолета в 98% случаев. \n",
    "# Однако если в зоне действия радара нет самолета, система все равно сообщает (ложно), что самолет присутствует, в 5% случаев. \n",
    "# В любой момент времени вероятность того, что самолет находится в зоне действия радара, составляет 7%.\n",
    "# Какова вероятность того, что самолет находится в зоне действия радара, учитывая, что на радаре нет самолета?"
   ]
  },
  {
   "cell_type": "code",
   "execution_count": null,
   "metadata": {},
   "outputs": [],
   "source": [
    "- $P(Y|X)$ - вероятность, что самолёт есть, если радар его не видит (**то, что мы ищем в задаче**)\n",
    "- $P(X|Y)$ - вероятность, что радар ничего не увидит, если самолёт прилетит (**в условии указана обратная вероятность - что радар увидит реально летящий самолёт**)\n",
    "- $P(Y)$ - вероятность, что самолёт в принципе может залететь в область радара (**также указана в условии**)\n",
    "- $P(X)$ - вероятность того, что самолёт не будет видно на радаре в принципе \n",
    "(**считаем по аналогии с прошлыми задачами, учитываем указанную в условии вероятность ложноположительного срабатывания, но про ложноотрицательное тоже не забывайте**)"
   ]
  },
  {
   "cell_type": "code",
   "execution_count": 47,
   "metadata": {},
   "outputs": [
    {
     "data": {
      "text/plain": [
       "0.0015820996722793552"
      ]
     },
     "execution_count": 47,
     "metadata": {},
     "output_type": "execute_result"
    }
   ],
   "source": [
    "((1-0.98)*0.07)/((0.07*0.02)+(0.93*0.95))"
   ]
  },
  {
   "cell_type": "code",
   "execution_count": null,
   "metadata": {},
   "outputs": [],
   "source": []
  },
  {
   "cell_type": "code",
   "execution_count": null,
   "metadata": {},
   "outputs": [],
   "source": [
    "Задание 9"
   ]
  },
  {
   "cell_type": "code",
   "execution_count": null,
   "metadata": {},
   "outputs": [],
   "source": [
    "# Система РЛС (радиолокационная система) может обнаружить присутствие самолета в 98% случаев. \n",
    "# Однако если в зоне действия радара нет самолета, система все равно сообщает (ложно), что самолет присутствует, в 5% случаев. \n",
    "# В любой момент времени вероятность того, что самолет находится в зоне действия радара, составляет 7%.\n",
    "# Какова вероятность того, что самолет находится в зоне действия радара, учитывая, что радар показывает наличие самолета?"
   ]
  },
  {
   "cell_type": "code",
   "execution_count": 50,
   "metadata": {},
   "outputs": [
    {
     "data": {
      "text/plain": [
       "0.11510000000000009"
      ]
     },
     "execution_count": 50,
     "metadata": {},
     "output_type": "execute_result"
    }
   ],
   "source": [
    "px = 1 - ((0.07*0.02)+(0.93*0.95))    # общая вероятность, что самолет будет виден на радаре\n",
    "px                                    #  вероятность положительного срабатывания радара (как верного, так и ложного)"
   ]
  },
  {
   "cell_type": "code",
   "execution_count": 51,
   "metadata": {},
   "outputs": [
    {
     "data": {
      "text/plain": [
       "0.5960034752389223"
      ]
     },
     "execution_count": 51,
     "metadata": {},
     "output_type": "execute_result"
    }
   ],
   "source": [
    "(0.98*0.07)/px      # вероятность что самолет в радаре, учитывая, что радар показывает наличие самолета"
   ]
  },
  {
   "cell_type": "code",
   "execution_count": null,
   "metadata": {},
   "outputs": [],
   "source": []
  },
  {
   "cell_type": "code",
   "execution_count": null,
   "metadata": {},
   "outputs": [],
   "source": [
    "Задание 10"
   ]
  },
  {
   "cell_type": "code",
   "execution_count": null,
   "metadata": {},
   "outputs": [],
   "source": [
    "Передатчик аварийного локатора самолета (ELT) - это устройство, предназначенное для передачи сигнала в случае аварии. \n",
    "Компания A производит 80% всех ELT на рынке, компания B - 15%, а компания C - остальные 5%. \n",
    "Уровень дефектности ELT, произведенных компанией A, составляет 4%, компанией B - 6%, а компанией C - 9%. \n",
    "Случайно выбранный ELT был протестирован и оказался бракованным. \n",
    "Найдите вероятность того, что он был произведен компанией A."
   ]
  },
  {
   "cell_type": "code",
   "execution_count": 53,
   "metadata": {},
   "outputs": [],
   "source": [
    "a = 0.8"
   ]
  },
  {
   "cell_type": "code",
   "execution_count": 54,
   "metadata": {},
   "outputs": [],
   "source": [
    "b = 0.15"
   ]
  },
  {
   "cell_type": "code",
   "execution_count": 55,
   "metadata": {},
   "outputs": [],
   "source": [
    "c = 0.05"
   ]
  },
  {
   "cell_type": "code",
   "execution_count": 56,
   "metadata": {},
   "outputs": [],
   "source": [
    "p1 = 0.04"
   ]
  },
  {
   "cell_type": "code",
   "execution_count": 57,
   "metadata": {},
   "outputs": [],
   "source": [
    "p2 = 0.06"
   ]
  },
  {
   "cell_type": "code",
   "execution_count": 58,
   "metadata": {},
   "outputs": [],
   "source": [
    "p3 = 0.09"
   ]
  },
  {
   "cell_type": "code",
   "execution_count": 59,
   "metadata": {},
   "outputs": [
    {
     "data": {
      "text/plain": [
       "0.0455"
      ]
     },
     "execution_count": 59,
     "metadata": {},
     "output_type": "execute_result"
    }
   ],
   "source": [
    "px = ((a*p1)+(b*p2)+(c*p3))/(a+b+c)         # вероятность дефекта общая\n",
    "px "
   ]
  },
  {
   "cell_type": "code",
   "execution_count": 60,
   "metadata": {},
   "outputs": [
    {
     "data": {
      "text/plain": [
       "0.7032967032967034"
      ]
     },
     "execution_count": 60,
     "metadata": {},
     "output_type": "execute_result"
    }
   ],
   "source": [
    "(p1*a)/px        # вероятность, что произведен компанией А"
   ]
  },
  {
   "cell_type": "code",
   "execution_count": null,
   "metadata": {},
   "outputs": [],
   "source": []
  },
  {
   "cell_type": "code",
   "execution_count": null,
   "metadata": {},
   "outputs": [],
   "source": []
  }
 ],
 "metadata": {
  "kernelspec": {
   "display_name": "Python 3",
   "language": "python",
   "name": "python3"
  },
  "language_info": {
   "codemirror_mode": {
    "name": "ipython",
    "version": 3
   },
   "file_extension": ".py",
   "mimetype": "text/x-python",
   "name": "python",
   "nbconvert_exporter": "python",
   "pygments_lexer": "ipython3",
   "version": "3.7.3"
  }
 },
 "nbformat": 4,
 "nbformat_minor": 4
}
